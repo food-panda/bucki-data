{
 "cells": [
  {
   "cell_type": "code",
   "execution_count": 6,
   "id": "758b0567",
   "metadata": {},
   "outputs": [],
   "source": [
    "#!pip install tensorflow"
   ]
  },
  {
   "cell_type": "code",
   "execution_count": 7,
   "id": "086a351d",
   "metadata": {},
   "outputs": [],
   "source": [
    "# Matplotlib\n",
    "import numpy as np\n",
    "import matplotlib.pyplot as plt\n",
    "import matplotlib as mpl\n",
    "from matplotlib import rcParams\n",
    "mpl.rcParams.update(mpl.rcParamsDefault)\n",
    "mpl.rc('font', family='serif')\n",
    "mpl.rc('xtick', labelsize=14)\n",
    "mpl.rc('ytick', labelsize=14)\n",
    "mpl.rc('axes', labelsize=20)\n",
    "mpl.rc('axes', titlesize=20)\n",
    "mpl.rc('figure', figsize=(6, 4))\n",
    "%config InlineBackend.figure_format = 'retina'\n",
    "\n",
    "from numpy.linalg import matrix_rank\n",
    "import sys\n",
    "sys.path.append('../src')\n",
    "sys.path.append('../solvers')\n",
    "from rotating_hoop import RotatingHoop\n",
    "from learning import KRidgeReg, NeuralNet, BuckyNet, KRidgeReg_struct\n",
    "from nullspace_search import get_nondim_numbers, fit_allnondim\n",
    "from helper_functions import prettify_results\n"
   ]
  },
  {
   "cell_type": "code",
   "execution_count": 11,
   "id": "3c5536d8",
   "metadata": {},
   "outputs": [
    {
     "data": {
      "text/plain": [
       "[{'m': 2.0, 'R': 1.0, 'b': -2.0, 'g': 1.0},\n",
       " {'m': 1.0, 'b': -1.0, 'g': 1.0, 't': 1.0}]"
      ]
     },
     "execution_count": 11,
     "metadata": {},
     "output_type": "execute_result"
    }
   ],
   "source": [
    "from pint import pi_theorem\n",
    "# [L, M, T]\n",
    "# Pi = np.array([[0, 1, 0], [1, 0, 0], [1, 1, -1], \n",
    "#                [1, 0, -2], [0, 0, -1], [0, 0, 1]]).T\n",
    "#             names = ['m', 'R', 'b', 'g', 'w', 't']\n",
    "    \n",
    "pi_theorem(\n",
    "{\n",
    "    'm': '[mass]',\n",
    "    'R': '[length]',\n",
    "    'b': '([length] * [mass]) / [time]',   \n",
    "    'g': '[length] / [time]**2',   \n",
    "    'w': '1/[time]',\n",
    "    't': '[time]'\n",
    "})\n"
   ]
  },
  {
   "cell_type": "code",
   "execution_count": null,
   "id": "9b7ed062",
   "metadata": {},
   "outputs": [],
   "source": []
  }
 ],
 "metadata": {
  "kernelspec": {
   "display_name": "Python 3 (ipykernel)",
   "language": "python",
   "name": "python3"
  },
  "language_info": {
   "codemirror_mode": {
    "name": "ipython",
    "version": 3
   },
   "file_extension": ".py",
   "mimetype": "text/x-python",
   "name": "python",
   "nbconvert_exporter": "python",
   "pygments_lexer": "ipython3",
   "version": "3.9.12"
  }
 },
 "nbformat": 4,
 "nbformat_minor": 5
}
