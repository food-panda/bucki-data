{
 "cells": [
  {
   "cell_type": "code",
   "execution_count": 6,
   "id": "7b896a71",
   "metadata": {},
   "outputs": [],
   "source": [
    "#!pip install tensorflow"
   ]
  },
  {
   "cell_type": "code",
   "execution_count": 7,
   "id": "cbf41f0c",
   "metadata": {},
   "outputs": [],
   "source": [
    "# Matplotlib\n",
    "import numpy as np\n",
    "import matplotlib.pyplot as plt\n",
    "import matplotlib as mpl\n",
    "from matplotlib import rcParams\n",
    "mpl.rcParams.update(mpl.rcParamsDefault)\n",
    "mpl.rc('font', family='serif')\n",
    "mpl.rc('xtick', labelsize=14)\n",
    "mpl.rc('ytick', labelsize=14)\n",
    "mpl.rc('axes', labelsize=20)\n",
    "mpl.rc('axes', titlesize=20)\n",
    "mpl.rc('figure', figsize=(6, 4))\n",
    "%config InlineBackend.figure_format = 'retina'\n",
    "\n",
    "from numpy.linalg import matrix_rank\n",
    "import sys\n",
    "sys.path.append('../src')\n",
    "sys.path.append('../solvers')\n",
    "from rotating_hoop import RotatingHoop\n",
    "from learning import KRidgeReg, NeuralNet, BuckyNet, KRidgeReg_struct\n",
    "from nullspace_search import get_nondim_numbers, fit_allnondim\n",
    "from helper_functions import prettify_results\n"
   ]
  },
  {
   "cell_type": "code",
   "execution_count": null,
   "id": "4d4120c9",
   "metadata": {},
   "outputs": [],
   "source": []
  }
 ],
 "metadata": {
  "kernelspec": {
   "display_name": "Python 3 (ipykernel)",
   "language": "python",
   "name": "python3"
  },
  "language_info": {
   "codemirror_mode": {
    "name": "ipython",
    "version": 3
   },
   "file_extension": ".py",
   "mimetype": "text/x-python",
   "name": "python",
   "nbconvert_exporter": "python",
   "pygments_lexer": "ipython3",
   "version": "3.9.12"
  }
 },
 "nbformat": 4,
 "nbformat_minor": 5
}
