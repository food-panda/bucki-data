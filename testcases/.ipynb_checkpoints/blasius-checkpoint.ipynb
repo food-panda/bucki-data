{
 "cells": [
  {
   "cell_type": "markdown",
   "metadata": {},
   "source": [
    "# Blasius solution\n",
    "\n",
    "For constant free stream flow, the [Blasius similarity solution](https://en.wikipedia.org/wiki/Blasius_boundary_layer#Blasius_equation_-_First-order_boundary_layer) gives the boundary layer behavior a s a function of the similarity variable $$\\eta = \\frac{y}{\\delta(x)} = y \\sqrt{\\frac{U_\\infty}{ \\nu x}},$$\n",
    "where $\\delta(x)$ is the boundary layer thickness. Under Blasius' assumptions the flow is determined by the solution to the nonlinear boundary value problem\n",
    "$$ f'''(\\eta) + \\frac{1}{2}f''(\\eta) f(\\eta), $$\n",
    "$$ f(0) = f'(0) = 0, f'(\\infty) = 1$$\n",
    "\n",
    "Since this is a third-order equation, if a value for $f''(0)$ can be found which satisfies the infinite boundary condition, the self-similarity function $f(\\eta)$ can be found numerically (e.g. with Runge-Kutta integration). This unknown \"initial condition\" can be established through root-finding.\n",
    "\n",
    "Once $f(\\eta)$ is known, the boundary layer profile can be found via\n",
    "$$ u(x, y) = U_\\infty f'(\\eta), \\hspace{1cm} v(x, y) = \\frac{U_\\infty}{2}\\sqrt{\\frac{\\nu}{ U_\\infty x}} [\\eta f'(\\eta) - f(\\eta)]. $$\n",
    "In other words, $u/U_\\infty$ depends only on $\\eta$, but $v/U_\\infty$ depends on $\\eta$ and $Re_x$"
   ]
  },
  {
   "cell_type": "code",
   "execution_count": 12,
   "metadata": {},
   "outputs": [],
   "source": [
    "import numpy as np\n",
    "import numpy.random as rng\n",
    "\n",
    "from scipy.integrate import odeint\n",
    "from scipy.optimize import minimize, root\n",
    "\n",
    "# Matplotlib\n",
    "import matplotlib.pyplot as plt\n",
    "import matplotlib as mpl\n",
    "from matplotlib import rcParams\n",
    "mpl.rc('text', usetex=True)\n",
    "mpl.rc('font', family='serif')\n",
    "mpl.rc('xtick', labelsize=14)\n",
    "mpl.rc('ytick', labelsize=14)\n",
    "mpl.rc('axes', labelsize=20)\n",
    "mpl.rc('axes', titlesize=20)\n",
    "mpl.rc('figure', figsize=(6, 4))\n",
    "%config InlineBackend.figure_format = 'retina'\n",
    "\n",
    "from sklearn.kernel_ridge import KernelRidge"
   ]
  },
  {
   "cell_type": "markdown",
   "metadata": {},
   "source": [
    "Obviously the equation cannot be solved numerically at infinity, but since it quickly approaches a linear solution, solving the problem on $\\eta \\in (0, 10)$ should be sufficient."
   ]
  },
  {
   "cell_type": "code",
   "execution_count": 13,
   "metadata": {},
   "outputs": [],
   "source": [
    "eta_inf = 10;  # Arbitrary \"infinite\" upper limit for domain\n",
    "d_eta = 0.01;   # Step size\n",
    "eta = np.arange(0, eta_inf, d_eta)\n",
    "\n",
    "F_init = [0, 0, 0] # Initial guess for unknown initial condition"
   ]
  },
  {
   "cell_type": "markdown",
   "metadata": {},
   "source": [
    "To solve, we need to define variables to reduce the third-order ODE to a first-order system of ODEs. This is done by defining\n",
    "$$ f(\\eta) = f_0 $$\n",
    "$$ f'(\\eta) = f_1 $$\n",
    "$$ f''(\\eta) = f_2 $$\n",
    "Then the BVP becomes\n",
    "$$f_0' = f_1 $$\n",
    "$$ f_1' = f_2 $$\n",
    "$$ f_2' = -\\frac{1}{2}f_2 f_0 $$\n",
    "with boundary conditions\n",
    "$$f_0(0) = f_1(0) = 0$$\n",
    "$$f_1(\\infty) = 1$$\n",
    "\n",
    "To solve with scipy, need to define a function to evaluate the ODE (for forward integration) and a function to evaluate the error in the boundary conditions:"
   ]
  },
  {
   "cell_type": "code",
   "execution_count": 14,
   "metadata": {},
   "outputs": [],
   "source": [
    "def blasius_rhs(f):\n",
    "    \"\"\"RHS of Blasius equation recast as first order nonlinear ODE\n",
    "    f[0] = f\n",
    "    f[1] = f'\n",
    "    f[2] = f''\n",
    "    \"\"\"\n",
    "    return np.array([f[1], f[2], -f[0]*f[2]/2])\n",
    "\n",
    "def bc_fn(f0):\n",
    "    \"\"\"Solve with unknown initial condition as guess and evaluate at upper boundary\"\"\"\n",
    "    global eta\n",
    "    f = odeint(lambda f, t: blasius_rhs(f), f0, eta)\n",
    "    # return discrepancy between upper boundary and desired f[2] = 1\n",
    "    return [f0[0], f0[1], f[-1, 1] - 1]"
   ]
  },
  {
   "cell_type": "markdown",
   "metadata": {},
   "source": [
    "Now `bc_fn` should return all zeros when the boundary conditions are satisfied. Then we can use `scipy.optimize.root` to find the unknown value of $f''(0)$ and `scipy.integrate.odeint` to solve the equation. The results can be compared against the exact result from Boyd (1999):\n",
    "\n",
    "John P. Boyd, \"The Blasius function in the complex plane,\" *Experimental Mathematics*, 8 (1999), 381-394."
   ]
  },
  {
   "cell_type": "code",
   "execution_count": 15,
   "metadata": {},
   "outputs": [],
   "source": [
    "# Solve root-finding problem for unknown initial condition\n",
    "opt_res = root(bc_fn, F_init, tol=1e-4)\n",
    "F0 = [0, 0, opt_res.x[2]]\n",
    "\n",
    "# Evaluate with resulting initial conditions\n",
    "f = odeint(lambda y, t: blasius_rhs(y), F0, eta)"
   ]
  },
  {
   "cell_type": "markdown",
   "metadata": {},
   "source": [
    "# Full boundary layer solution"
   ]
  },
  {
   "cell_type": "code",
   "execution_count": 16,
   "metadata": {},
   "outputs": [
    {
     "data": {
      "text/plain": [
       "Text(0, 0.5, '$\\\\delta$')"
      ]
     },
     "execution_count": 16,
     "metadata": {},
     "output_type": "execute_result"
    },
    {
     "data": {
      "image/png": "[encoded data removed]",
      "text/plain": [
       "<Figure size 432x144 with 1 Axes>"
      ]
     },
     "metadata": {
      "image/png": {
       "height": 164,
       "width": 409
      },
      "needs_background": "light"
     },
     "output_type": "display_data"
    }
   ],
   "source": [
    "x = np.linspace(1e-3, 1e-1, 100)\n",
    "nu = 1e-6       # Viscosity of water near room temperature  (m^2/s)\n",
    "U_inf = 0.01    # m/s\n",
    "\n",
    "Re = (U_inf/nu)*x\n",
    "delta = 1.72 * np.sqrt(x*nu/U_inf)\n",
    "\n",
    "plt.figure(figsize=(6, 2))\n",
    "plt.plot(x, delta)\n",
    "plt.grid()\n",
    "plt.xlabel('$x$')\n",
    "plt.ylabel(r'$\\delta$')"
   ]
  },
  {
   "cell_type": "code",
   "execution_count": 17,
   "metadata": {},
   "outputs": [],
   "source": [
    "y = np.linspace(1e-4, 2*max(delta), 100)\n",
    "\n",
    "yy, xx = np.meshgrid(y, x)\n",
    "\n",
    "u = np.zeros([len(x), len(y)])\n",
    "v = np.zeros(u.shape)\n",
    "\n",
    "eta = yy*np.sqrt(U_inf/(xx*nu))  # Exact value of eta\n",
    "\n",
    "for i in range(len(x)):\n",
    "    f = odeint(lambda y, t: blasius_rhs(y), F0, eta[i, :])\n",
    "    u[i, :] = U_inf * f[:, 1]\n",
    "    v[i, :] = (0.5*U_inf/np.sqrt(Re[i])) * (eta[i, :]*f[:, 1] - f[:, 0])"
   ]
  },
  {
   "cell_type": "code",
   "execution_count": 18,
   "metadata": {},
   "outputs": [
    {
     "data": {
      "text/plain": [
       "Text(0, 0.5, '$y$')"
      ]
     },
     "execution_count": 18,
     "metadata": {},
     "output_type": "execute_result"
    },
    {
     "data": {
      "image/png": "[encoded data removed]",
      "text/plain": [
       "<Figure size 432x144 with 1 Axes>"
      ]
     },
     "metadata": {
      "image/png": {
       "height": 164,
       "width": 419
      },
      "needs_background": "light"
     },
     "output_type": "display_data"
    }
   ],
   "source": [
    "plt.figure(figsize=(6, 2))\n",
    "plt.pcolor(x, y, u.T, shading='auto', cmap='bone')\n",
    "plt.plot(x, delta, c='w')\n",
    "plt.xlabel(\"$x$\")\n",
    "plt.ylabel(\"$y$\")"
   ]
  },
  {
   "cell_type": "code",
   "execution_count": 19,
   "metadata": {},
   "outputs": [
    {
     "data": {
      "text/plain": [
       "Text(0, 0.5, '$\\\\eta$')"
      ]
     },
     "execution_count": 19,
     "metadata": {},
     "output_type": "execute_result"
    },
    {
     "data": {
      "image/png": "[encoded data removed]",
      "text/plain": [
       "<Figure size 288x144 with 1 Axes>"
      ]
     },
     "metadata": {
      "image/png": {
       "height": 164,
       "width": 281
      },
      "needs_background": "light"
     },
     "output_type": "display_data"
    }
   ],
   "source": [
    "plt.figure(figsize=(4, 2))\n",
    "plt.scatter(u.flatten()/U_inf, eta.flatten(), c='k', s=0.1)\n",
    "plt.xlim()\n",
    "plt.grid()\n",
    "plt.xlabel(r'$u$')\n",
    "plt.ylabel(r'$\\eta$')"
   ]
  },
  {
   "cell_type": "markdown",
   "metadata": {},
   "source": [
    "# Optimization"
   ]
  },
  {
   "cell_type": "code",
   "execution_count": 20,
   "metadata": {},
   "outputs": [
    {
     "name": "stdout",
     "output_type": "stream",
     "text": [
      "[[ 1  1  1  2]\n",
      " [ 0  0 -1 -1]]\n",
      "[0. 0.]\n",
      "[0 0]\n"
     ]
    }
   ],
   "source": [
    "# Buckingham pi matrix [L; T]\n",
    "# [x, y, U, nu]\n",
    "Pi = np.array([[1, 0], [1, 0], [1, -1], [2,  -1]]).T\n",
    "print(Pi)\n",
    "\n",
    "# True vectors are in the nullspace\n",
    "eta_vec = np.array([-0.5, 1, 0.5, -0.5])\n",
    "Re_vec = np.array([1, 0, 1, -1])\n",
    "print(Pi @ eta_vec)\n",
    "print(Pi @ Re_vec)"
   ]
  },
  {
   "cell_type": "code",
   "execution_count": 21,
   "metadata": {},
   "outputs": [],
   "source": [
    "# Cost function from KRR\n",
    "krr = KernelRidge(alpha=1e-4, kernel='rbf', gamma=1)\n",
    "\n",
    "# Observable\n",
    "q = np.vstack([u.flatten()/U_inf, v.flatten()/U_inf])\n",
    "\n",
    "def loss(x, p, q, krr, l1_reg=0, dim=1):\n",
    "    theta = np.exp(np.log(p) @ np.reshape(x, [p.shape[1], dim]))\n",
    "    krr.fit(theta, q)\n",
    "    return 1 - krr.score(theta, q) + l1_reg*np.linalg.norm(x, ord=1)\n",
    "\n",
    "# All parameters\n",
    "p = np.vstack([xx.flatten(),\n",
    "               yy.flatten(),\n",
    "               np.full(u.shape, U_inf).flatten(),\n",
    "               np.full(u.shape, nu).flatten()]).T\n",
    "\n",
    "\n",
    "# Randomly subsample observable and parameters\n",
    "nsamp = 100\n",
    "idx = np.random.choice(np.arange(q.shape[1]), nsamp)\n",
    "q = q[:, idx]\n",
    "p = p[idx, :]"
   ]
  },
  {
   "cell_type": "markdown",
   "metadata": {},
   "source": [
    "## Fit only $u$ (ID $\\eta$)"
   ]
  },
  {
   "cell_type": "code",
   "execution_count": 22,
   "metadata": {},
   "outputs": [
    {
     "name": "stdout",
     "output_type": "stream",
     "text": [
      "Optimization terminated successfully    (Exit mode 0)\n",
      "            Current function value: 0.004824745603353769\n",
      "            Iterations: 21\n",
      "            Function evaluations: 115\n",
      "            Gradient evaluations: 21\n",
      "[-0.5  1.   0.5 -0.5]\n",
      "[ 1  0  1 -1]\n",
      "[-0.41845935  1.          0.58154065 -0.58154065]\n"
     ]
    }
   ],
   "source": [
    "x0 = rng.randn(Pi.shape[1], 1)  # Second dimension is number of dimensionless parameterss\n",
    "\n",
    "def constr(x):\n",
    "    return (Pi @ np.reshape(x, x0.shape) ).flatten()\n",
    "\n",
    "r = 1  # Number of columns to optimize\n",
    "res = minimize(lambda x: loss(x, p, q[:r, :].T, krr, l1_reg=1e-3, dim=x0.shape[1]),\n",
    "               x0,\n",
    "               constraints=[{'type':'eq', 'fun': constr}],\n",
    "               options={'disp': True})\n",
    "\n",
    "print(eta_vec)\n",
    "print(Re_vec)\n",
    "x = np.reshape(res.x, x0.shape)\n",
    "print(x[:, 0]/x[1, 0])\n",
    "#print(x[:, 1]/x[1, 1])"
   ]
  },
  {
   "cell_type": "code",
   "execution_count": 23,
   "metadata": {},
   "outputs": [
    {
     "name": "stdout",
     "output_type": "stream",
     "text": [
      "0.0003551589448559365\n"
     ]
    },
    {
     "name": "stderr",
     "output_type": "stream",
     "text": [
      "<ipython-input-21-44e2754a583a>:8: RuntimeWarning: overflow encountered in exp\n",
      "  theta = np.exp(np.log(p) @ np.reshape(x, [p.shape[1], dim]))\n"
     ]
    },
    {
     "name": "stdout",
     "output_type": "stream",
     "text": [
      "0.0003197501229526201\n",
      "0.00023117310848870542\n",
      "0.0005112261452905607\n",
      "[-0.5  1.   0.5 -0.5]\n",
      "[-0.48392751  1.          0.51607249 -0.51607249]\n"
     ]
    }
   ],
   "source": [
    "# Re-run with random initialization\n",
    "\n",
    "min_loss = 1e8\n",
    "ntrials = 10\n",
    "r = 1\n",
    "\n",
    "for i in range(ntrials):\n",
    "    try:\n",
    "        x0 = rng.randn(Pi.shape[1], 1)\n",
    "        res = minimize(lambda x: loss(x, p, q[:r, :].T, krr, l1_reg=1e-4, dim=x0.shape[1]),\n",
    "                       x0,\n",
    "                       constraints=[{'type':'eq', 'fun': constr}],\n",
    "                       options={'disp': False})\n",
    "        \n",
    "        if res.fun < min_loss:\n",
    "            x = np.reshape(res.x, x0.shape)\n",
    "            min_loss = res.fun\n",
    "            print(min_loss)\n",
    "        \n",
    "    # If optimization fails, try again\n",
    "    except ValueError:\n",
    "        pass\n",
    "    \n",
    "    \n",
    "# \n",
    "print(loss(eta_vec,\n",
    "           p, q[:r, :].T, krr, l1_reg=1e-4, dim=x0.shape[1]))\n",
    "\n",
    "\n",
    "print(eta_vec)\n",
    "print(x[:, 0]/x[1, 0])"
   ]
  },
  {
   "cell_type": "markdown",
   "metadata": {},
   "source": [
    "## Fit $u$ and $v$ (ID $\\eta$ and $Re_x$)"
   ]
  },
  {
   "cell_type": "code",
   "execution_count": 235,
   "metadata": {},
   "outputs": [
    {
     "name": "stdout",
     "output_type": "stream",
     "text": [
      "9.066443661176731e-05\n",
      "1.630775045933495e-09\n",
      "3.7023784237378145e-10\n",
      "2.731696124512502e-10\n",
      "2.653141432024171e-10\n",
      "5.50000222044605e-10\n",
      "[-0.5  1.   0.5 -0.5]\n",
      "[ 1  0  1 -1]\n",
      "[ 1.        -0.9650306  0.0349694 -0.0349694]\n",
      "[ 1.        -0.2419538  0.7580462 -0.7580462]\n"
     ]
    }
   ],
   "source": [
    "krr = KernelRidge(alpha=1e-8, kernel='rbf', gamma=1)\n",
    "\n",
    "def constr(x):\n",
    "    return (Pi @ np.reshape(x, x0.shape) ).flatten()\n",
    "\n",
    "# Re-run with random initialization\n",
    "\n",
    "min_loss = 1e8\n",
    "ntrials = 100\n",
    "r = 2\n",
    "\n",
    "l1_reg = 1e-10\n",
    "\n",
    "for i in range(ntrials):\n",
    "    try:\n",
    "        x0 = rng.randn(Pi.shape[1], 2)\n",
    "        res = minimize(lambda x: loss(x, p, q[:r, :].T, krr, l1_reg=l1_reg, dim=x0.shape[1]),\n",
    "                       x0,\n",
    "                       constraints=[{'type':'eq', 'fun': constr}],\n",
    "                       options={'disp': False})\n",
    "        \n",
    "        if res.fun < min_loss:\n",
    "            x = np.reshape(res.x, x0.shape)\n",
    "            min_loss = res.fun\n",
    "            print(min_loss)\n",
    "        \n",
    "    # If optimization fails, try again\n",
    "    except ValueError:\n",
    "        pass\n",
    "    \n",
    "# \n",
    "print(loss(np.concatenate([eta_vec, Re_vec]),\n",
    "           p, q[:r, :].T, krr, l1_reg=l1_reg, dim=x0.shape[1]))\n",
    "\n",
    "\n",
    "print(eta_vec)\n",
    "print(Re_vec)\n",
    "print(x[:, 0]/max(x[:, 0]))\n",
    "print(x[:, 1]/max(x[:, 1]))"
   ]
  },
  {
   "cell_type": "code",
   "execution_count": 31,
   "metadata": {},
   "outputs": [
    {
     "data": {
      "text/plain": [
       "     fun: 4.5434884492737526e-10\n",
       "     jac: array([-1.00000001e-10,  1.00000001e-10,  1.00000001e-10,  1.00000001e-10,\n",
       "       -1.00000001e-10,  1.00000001e-10,  1.00000001e-10, -1.00000001e-10])\n",
       " message: 'Optimization terminated successfully'\n",
       "    nfev: 18\n",
       "     nit: 2\n",
       "    njev: 2\n",
       "  status: 0\n",
       " success: True\n",
       "       x: array([-0.65694392,  0.94448513,  0.6045477 ,  0.11458226, -0.05239622,\n",
       "        1.05906739,  0.05239622, -1.05906739])"
      ]
     },
     "execution_count": 31,
     "metadata": {},
     "output_type": "execute_result"
    }
   ],
   "source": [
    "res"
   ]
  },
  {
   "cell_type": "code",
   "execution_count": null,
   "metadata": {},
   "outputs": [],
   "source": []
  }
 ],
 "metadata": {
  "kernelspec": {
   "display_name": "Python 3",
   "language": "python",
   "name": "python3"
  },
  "language_info": {
   "codemirror_mode": {
    "name": "ipython",
    "version": 3
   },
   "file_extension": ".py",
   "mimetype": "text/x-python",
   "name": "python",
   "nbconvert_exporter": "python",
   "pygments_lexer": "ipython3",
   "version": "3.8.5"
  }
 },
 "nbformat": 4,
 "nbformat_minor": 4
}
